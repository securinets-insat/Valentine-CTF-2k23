{
 "cells": [
  {
   "attachments": {},
   "cell_type": "markdown",
   "metadata": {},
   "source": [
    "# TroubleMan Solver"
   ]
  },
  {
   "attachments": {},
   "cell_type": "markdown",
   "metadata": {},
   "source": [
    "## Code Analysis and putting thoughts together\n",
    "\n",
    "After Analysing the code we found that we don't have func but we have a hint \n",
    "\n",
    "```python\n",
    "rand = getRandomNBitInteger(100)\n",
    "test = (296*func(rand)-288)/(2*func(rand)+248)\n",
    "assert(abs(test-func(rand+1))<10**-4)\n",
    "```\n",
    "So in another words\n",
    "$$\n",
    "U_{n+1} = \\frac{296*U_n - 288}{2* U_n + 248}\n",
    "$$\n",
    "\n",
    "This is some Kind of **Mathematical Sequences**\n",
    "\n",
    "In **mathematics the french** resources are by far better than any other resources . So let's google `type des suites`  :\n",
    "\n",
    "1. We find that [website](https://progresser-en-maths.com/les-differents-types-de-suites-en-mathematiques/) that explains the different types of sequences\n",
    "2. We found out that our sequence is named : `suite homographique`\n",
    "3. We have a little [cours](https://progresser-en-maths.com/les-suites-homographiques-cours-et-exercices/) of how we solve it\n"
   ]
  },
  {
   "attachments": {},
   "cell_type": "markdown",
   "metadata": {},
   "source": [
    "## Finding the Encryption function :\n",
    "\n",
    "Let's follow the steps of the [cours](https://progresser-en-maths.com/les-suites-homographiques-cours-et-exercices/) \n",
    "\n",
    "### 1. Finding roots :\n",
    "\n",
    "$$\n",
    "l = \\frac{296*l - 288}{2* l + 248} ==> 2*l² - 48 l + 144 = 0 => (l-12)² = 0 \n",
    "$$\n",
    "\n",
    "$l = 12$ is the only solution of the equation\n",
    "\n",
    "### 2. Define new Sequence $V_n$  :\n",
    "\n",
    "$$\n",
    "V_{n} = \\frac{1}{U_n - \\alpha} / \\alpha = 12 ; k = \\frac{2*c}{a+d} = \\frac{1}{160}\n",
    "$$\n",
    "\n",
    "$$\n",
    "U_0 = \\frac{380}{45}\n",
    "$$ --> \n",
    "$$\n",
    "V_{0} = \\frac{1}{\\frac{380}{45}-12} = - \\frac{45}{160}\n",
    "$$ \n",
    "\n",
    "### 3. Write $V_n$ as :\n",
    "\n",
    "$$\n",
    "V_{n} = V_0 + n*k \n",
    "$$\n",
    "\n",
    "### 4. Finally we recover $U_{n}$ :\n",
    "\n",
    "$$\n",
    "U_{n} = \\alpha + \\frac{1}{V_0 + n*k} = 12 + \\frac{160}{-45+n}\n",
    "$$\n"
   ]
  },
  {
   "attachments": {},
   "cell_type": "markdown",
   "metadata": {},
   "source": [
    "## Solution :\n",
    "\n",
    "for each caracter $f_i$ of the flag :\n",
    "\n",
    "$$\n",
    "c_{i} = 12 + \\frac{160}{-45+f_i}\n",
    "$$\n",
    "\n",
    "==>\n",
    "$$\n",
    "f_i = round(45 + \\frac{160}{c_i - 12})\n",
    "$$"
   ]
  },
  {
   "cell_type": "code",
   "execution_count": 1,
   "metadata": {},
   "outputs": [
    {
     "name": "stdout",
     "output_type": "stream",
     "text": [
      "func(0) = 380/45\n",
      "Cipher = [16.210526315789473, 14.857142857142858, 14.962962962962962, 14.222222222222221, 14.318840579710145, 14.666666666666666, 14.461538461538462, 14.857142857142858, 14.253521126760564, 14.285714285714285, 14.051282051282051, 16.102564102564102, 14.711864406779661, 38.66666666666667, 15.2, 14.318840579710145, 34.85714285714286, 14.666666666666666, 16.848484848484848, 15.2, 14.162162162162161, 20.0, 32.0, 15.2, 17.517241379310345, 14.222222222222221, 32.0, 14.253521126760564, 15.2, 20.421052631578945, 14.711864406779661, 38.66666666666667, 15.076923076923077, 18.956521739130434, 14.0]\n",
      "\n"
     ]
    }
   ],
   "source": [
    "with open('out.txt','r') as f:\n",
    "    out = f.read()\n",
    "print(out)\n",
    "f.close()"
   ]
  },
  {
   "cell_type": "code",
   "execution_count": 2,
   "metadata": {},
   "outputs": [],
   "source": [
    "cipher = [16.210526315789473, 14.857142857142858, 14.962962962962962, 14.222222222222221, 14.318840579710145, 14.666666666666666, 14.461538461538462, 14.857142857142858, 14.253521126760564, 14.285714285714285, 14.051282051282051, 16.102564102564102, 14.711864406779661, 38.66666666666667, 15.2, 14.318840579710145, 34.85714285714286, 14.666666666666666, 16.848484848484848, 15.2, 14.162162162162161, 20.0, 32.0, 15.2, 17.517241379310345, 14.222222222222221, 32.0, 14.253521126760564, 15.2, 20.421052631578945, 14.711864406779661, 38.66666666666667, 15.076923076923077, 18.956521739130434, 14.0]\n"
   ]
  },
  {
   "cell_type": "code",
   "execution_count": 3,
   "metadata": {},
   "outputs": [
    {
     "name": "stdout",
     "output_type": "stream",
     "text": [
      "Securinets{Th3_r4iN_wA5_Ju5t_@h3aD}\n"
     ]
    }
   ],
   "source": [
    "flag = ''\n",
    "for c in cipher:\n",
    "    tmp = 45+160/(c-12)\n",
    "    flag+= chr(round(tmp))\n",
    "print(flag)"
   ]
  },
  {
   "attachments": {},
   "cell_type": "markdown",
   "metadata": {},
   "source": [
    "> Flag = **Securinets{Th3_r4iN_wA5_Ju5t_@h3aD}**"
   ]
  }
 ],
 "metadata": {
  "kernelspec": {
   "display_name": "Python 3",
   "language": "python",
   "name": "python3"
  },
  "language_info": {
   "codemirror_mode": {
    "name": "ipython",
    "version": 3
   },
   "file_extension": ".py",
   "mimetype": "text/x-python",
   "name": "python",
   "nbconvert_exporter": "python",
   "pygments_lexer": "ipython3",
   "version": "3.10.10"
  },
  "orig_nbformat": 4,
  "vscode": {
   "interpreter": {
    "hash": "40ca6923e9d7324ceb71afe172ec49a91e6da88725bf924d1e80661dcfb71bf9"
   }
  }
 },
 "nbformat": 4,
 "nbformat_minor": 2
}
