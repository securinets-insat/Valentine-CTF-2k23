{
 "cells": [
  {
   "attachments": {},
   "cell_type": "markdown",
   "metadata": {},
   "source": [
    "# Warmup Crypto"
   ]
  },
  {
   "attachments": {},
   "cell_type": "markdown",
   "metadata": {},
   "source": [
    "## Code Analysis :\n",
    "\n",
    "### Part 1 :\n",
    "\n",
    "```python\n",
    "a, b, p = getParams()\n",
    "\n",
    "def func(x,a=a,b=b,p=p):\n",
    "    return (a*x+b)%p\n",
    "\n",
    "def matching(x,y):\n",
    "    r = getRandomNBitInteger(20)\n",
    "    for _ in range(r):\n",
    "        x = func(x)\n",
    "    return x==y\n",
    "```\n",
    "\n",
    "### Part 2 :\n",
    "\n",
    "```python\n",
    "x = int(request.form['your_name'])\n",
    "y = int(request.form['your_crush'])\n",
    "tmp = matching(x,y)\n",
    "print(tmp)\n",
    "if(tmp):\n",
    "    return render_template(\"index.html\",status=flag, a=a,b=b,p=p)\n",
    "else:\n",
    "    return render_template('index.html',status=\"You Didn't match your crush vibe you weak\", a=a,b=b,p=p)\n",
    "```\n",
    "\n",
    "### Explination :\n",
    "\n",
    "The website takes 2 inputs `x,y` then it calculates ``f(f(f....(x)..)) r times``  for r is random each time\n",
    "\n",
    "Let's name ``f(f(f....(x)..)) r times`` $f^{r}(x)$ in the rest of the writeup\n",
    "\n",
    "We must find 2 integers `x,y` such as $f^{r}(x) = y$ for any r\n",
    "\n"
   ]
  },
  {
   "attachments": {},
   "cell_type": "markdown",
   "metadata": {},
   "source": [
    "## Into The solver\n",
    "\n",
    "### Let's discover a pattern : \n",
    "\n",
    "$$\n",
    "f(f(x))=a*(ax+b)+b [p] = a^2 x+ b(1+a) [p]\n",
    "$$\n",
    "$$\n",
    "f(f(f(x)))= f(a^2 x+ b(1+a))[p] = a (a^2 x+ b(1+a)) + b [p] = a^3 x + b (1+a+a^2) [p]\n",
    "$$\n",
    "\n",
    "$$\n",
    "f^{4}(x) = a^4 x + (1+a+a²+a^3) b [p] \n",
    "$$\n",
    "\n",
    "<br>\n",
    "\n",
    "Recursively we have :\n",
    "$$\n",
    "f^{r}(x)=a^r x + b (1+a+a^2+....+a^{r-1}) [p] \n",
    "$$\n",
    "\n",
    "Also we have a sum of [Geometric Sequence](https://www.cuemath.com/algebra/geometric-sequence/) :\n",
    "\n",
    "$$\n",
    "(1+a+a^2+....+a^{r-1}) = \\displaystyle\\sum_{k=0}^{r-1} a^k = \\frac{a^r-1}{a-1}\n",
    "$$\n",
    "\n",
    "### Putting all together :\n",
    "\n",
    "$$\n",
    "f^{r}(x) =a^r x + b \\frac{a^r-1}{a-1} [p]  = \\frac{a^r (x(a-1)+b)-b}{a-1} [p]\n",
    "$$\n",
    "\n",
    "Since the r is random and always changes let's nullify the $k*a^r$ part :\n",
    "\n",
    "$$\n",
    "x*(a-1)+b = 0[p] => x = \\frac{-b}{a-1} [p] ==> y = \\frac{-b}{a-1} [p]\n",
    "$$\n",
    "\n",
    "### Note :\n",
    "\n",
    "In arithmetic $\\frac{d}{c} [p] = d * inverse(c,p)$"
   ]
  },
  {
   "cell_type": "code",
   "execution_count": 2,
   "metadata": {},
   "outputs": [
    {
     "name": "stdout",
     "output_type": "stream",
     "text": [
      "3540562397540514317835773881173539201113818509538332488047823420924459681239340071141470386081648528806021836492555608907933728550283050053337895063613478\n"
     ]
    }
   ],
   "source": [
    "from Crypto.Util.number import *\n",
    "a = 143475064224411945757890102068240737022437139713173306218787404865786224930172805764326147779601205985051384467154633577655281991227672906670029390178332 \n",
    "b = 536049172290112439965313477458068059477243275877141624431913739789558991290557934269886126283386459427995980154281083898365308248789951578087741046313592\n",
    "p = 13407807929942597099574024998205846127479365820592393377723561443721764030073546976801874298166903427690031858186486050853753882811946569946433649006084095\n",
    "print( (-b * inverse(a-1,p)) % p )"
   ]
  },
  {
   "attachments": {},
   "cell_type": "markdown",
   "metadata": {},
   "source": [
    "## Get the flag :\n",
    "\n",
    "We have now **x = y =** 3540562397540514317835773881173539201113818509538332488047823420924459681239340071141470386081648528806021836492555608907933728550283050053337895063613478\n",
    "\n",
    "Let's put that solution into our website :\n",
    "\n",
    "![](./images/PuttingXY.png)\n",
    "\n",
    "After Submitting we get Our flag :\n",
    "\n",
    "![](./images/GetFlag.png)"
   ]
  },
  {
   "attachments": {},
   "cell_type": "markdown",
   "metadata": {},
   "source": [
    "> Flag = **Securinets{Y0uR_l0v3_re5lv3_1s_Hug3}**"
   ]
  }
 ],
 "metadata": {
  "kernelspec": {
   "display_name": "Python 3",
   "language": "python",
   "name": "python3"
  },
  "language_info": {
   "codemirror_mode": {
    "name": "ipython",
    "version": 3
   },
   "file_extension": ".py",
   "mimetype": "text/x-python",
   "name": "python",
   "nbconvert_exporter": "python",
   "pygments_lexer": "ipython3",
   "version": "3.10.10"
  },
  "orig_nbformat": 4,
  "vscode": {
   "interpreter": {
    "hash": "40ca6923e9d7324ceb71afe172ec49a91e6da88725bf924d1e80661dcfb71bf9"
   }
  }
 },
 "nbformat": 4,
 "nbformat_minor": 2
}
